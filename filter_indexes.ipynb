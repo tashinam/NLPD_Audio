{
 "cells": [
  {
   "cell_type": "code",
   "execution_count": 1,
   "outputs": [],
   "source": [
    "import numpy as np"
   ],
   "metadata": {
    "collapsed": false,
    "pycharm": {
     "name": "#%%\n"
    }
   }
  },
  {
   "cell_type": "code",
   "execution_count": 8,
   "outputs": [
    {
     "name": "stdout",
     "output_type": "stream",
     "text": [
      "[[ 0  1  2  3]\n",
      " [ 4  5  6  7]\n",
      " [ 8  9 10 11]\n",
      " [12 13 14 15]]\n",
      "[[ 0  1  2  3  4]\n",
      " [ 5  6  7  8  9]\n",
      " [10 11 12 13 14]\n",
      " [15 16 17 18 19]\n",
      " [20 21 22 23 24]]\n"
     ]
    }
   ],
   "source": [
    "image4 = np.array([[1,2,3,4],[5,6,7,8],[9,10,11,12],[13,14,15,16]])-1\n",
    "dim=5\n",
    "image5 = np.arange(dim**2).reshape(dim,dim)\n",
    "print(image4)\n",
    "print(image5)"
   ],
   "metadata": {
    "collapsed": false,
    "pycharm": {
     "name": "#%%\n"
    }
   }
  },
  {
   "cell_type": "code",
   "execution_count": null,
   "outputs": [],
   "source": [],
   "metadata": {
    "collapsed": false,
    "pycharm": {
     "name": "#%%\n"
    }
   }
  },
  {
   "cell_type": "code",
   "execution_count": 136,
   "outputs": [
    {
     "name": "stdout",
     "output_type": "stream",
     "text": [
      "[[ 0  1  2  3  4]\n",
      " [ 5  6  7  8  9]\n",
      " [10 11 12 13 14]\n",
      " [15 16 17 18 19]\n",
      " [20 21 22 23 24]]\n"
     ]
    }
   ],
   "source": [
    "h=5\n",
    "w=5\n",
    "im = np.arange(h*w).reshape(h,w)\n",
    "print(im)"
   ],
   "metadata": {
    "collapsed": false,
    "pycharm": {
     "name": "#%%\n"
    }
   }
  },
  {
   "cell_type": "code",
   "execution_count": 137,
   "outputs": [],
   "source": [
    "fh = 3\n",
    "fw = 3"
   ],
   "metadata": {
    "collapsed": false,
    "pycharm": {
     "name": "#%%\n"
    }
   }
  },
  {
   "cell_type": "code",
   "execution_count": 138,
   "outputs": [
    {
     "name": "stdout",
     "output_type": "stream",
     "text": [
      "1 1\n"
     ]
    }
   ],
   "source": [
    "zh = ((fh+1)//2)-1\n",
    "zw = ((fw+1)//2)-1\n",
    "print(zh, zw)"
   ],
   "metadata": {
    "collapsed": false,
    "pycharm": {
     "name": "#%%\n"
    }
   }
  },
  {
   "cell_type": "code",
   "execution_count": 168,
   "outputs": [
    {
     "name": "stdout",
     "output_type": "stream",
     "text": [
      "3 3\n"
     ]
    }
   ],
   "source": [
    "y=h-(2*zh)\n",
    "x=w-(2*zw)\n",
    "print(y,x)"
   ],
   "metadata": {
    "collapsed": false,
    "pycharm": {
     "name": "#%%\n"
    }
   }
  },
  {
   "cell_type": "code",
   "execution_count": 169,
   "outputs": [
    {
     "name": "stdout",
     "output_type": "stream",
     "text": [
      "9\n"
     ]
    }
   ],
   "source": [
    "num_p = (x*y)\n",
    "print(num_p)"
   ],
   "metadata": {
    "collapsed": false,
    "pycharm": {
     "name": "#%%\n"
    }
   }
  },
  {
   "cell_type": "code",
   "execution_count": 170,
   "outputs": [
    {
     "name": "stdout",
     "output_type": "stream",
     "text": [
      "18\n"
     ]
    }
   ],
   "source": [
    "p = ((i+zh)*(w)) + zw + (j)\n",
    "print(p)"
   ],
   "metadata": {
    "collapsed": false,
    "pycharm": {
     "name": "#%%\n"
    }
   }
  },
  {
   "cell_type": "code",
   "execution_count": 171,
   "outputs": [
    {
     "name": "stdout",
     "output_type": "stream",
     "text": [
      "0 0\n",
      "0 1\n",
      "0 2\n",
      "1 0\n",
      "1 1\n",
      "1 2\n",
      "2 0\n",
      "2 1\n",
      "2 2\n",
      "9 [6, 7, 8, 11, 12, 13, 16, 17, 18]\n"
     ]
    }
   ],
   "source": [
    "ps = []\n",
    "for i in range(y):\n",
    "    for j in range(x):\n",
    "        print(i,j)\n",
    "        p = ((i+zh)*(w)) + zw + (j)\n",
    "        # print(p)\n",
    "        ps.append(p)\n",
    "print(len(ps),ps)"
   ],
   "metadata": {
    "collapsed": false,
    "pycharm": {
     "name": "#%%\n"
    }
   }
  },
  {
   "cell_type": "code",
   "execution_count": 144,
   "outputs": [
    {
     "name": "stdout",
     "output_type": "stream",
     "text": [
      "[[0 1 2]\n",
      " [0 1 2]\n",
      " [0 1 2]] [[0 0 0]\n",
      " [1 1 1]\n",
      " [2 2 2]]\n"
     ]
    }
   ],
   "source": [
    "yy,xx=np.meshgrid(np.arange(y),np.arange(x))\n",
    "print(yy,xx)\n",
    "# XY=np.array([yy.flatten(order='F'),xx.flatten(order='F')]).T\n",
    "# print(XY)"
   ],
   "metadata": {
    "collapsed": false,
    "pycharm": {
     "name": "#%%\n"
    }
   }
  },
  {
   "cell_type": "code",
   "execution_count": 144,
   "outputs": [],
   "source": [],
   "metadata": {
    "collapsed": false,
    "pycharm": {
     "name": "#%%\n"
    }
   }
  },
  {
   "cell_type": "code",
   "execution_count": 161,
   "outputs": [
    {
     "name": "stdout",
     "output_type": "stream",
     "text": [
      "[[ 6]\n",
      " [ 7]\n",
      " [ 8]\n",
      " [11]\n",
      " [12]\n",
      " [13]\n",
      " [16]\n",
      " [17]\n",
      " [18]]\n"
     ]
    }
   ],
   "source": [
    "p = ((yy+zh)*(w)) + zw + (xx)\n",
    "p = p.T.flatten().reshape(-1,1)\n",
    "print(p)"
   ],
   "metadata": {
    "collapsed": false,
    "pycharm": {
     "name": "#%%\n"
    }
   }
  },
  {
   "cell_type": "code",
   "execution_count": 157,
   "outputs": [
    {
     "name": "stdout",
     "output_type": "stream",
     "text": [
      "[[ 0.  1.  2.  5.  7. 10. 11. 12.]\n",
      " [ 1.  2.  3.  6.  8. 11. 12. 13.]\n",
      " [ 2.  3.  4.  7.  9. 12. 13. 14.]\n",
      " [ 5.  6.  7. 10. 12. 15. 16. 17.]\n",
      " [ 6.  7.  8. 11. 13. 16. 17. 18.]\n",
      " [ 7.  8.  9. 12. 14. 17. 18. 19.]\n",
      " [10. 11. 12. 15. 17. 20. 21. 22.]\n",
      " [11. 12. 13. 16. 18. 21. 22. 23.]\n",
      " [12. 13. 14. 17. 19. 22. 23. 24.]]\n"
     ]
    }
   ],
   "source": [
    "n = np.zeros((len(p),8))\n",
    "for e, pp in enumerate(p):\n",
    "    n[e,0] = pp-h-1\n",
    "    n[e,1] = pp-h\n",
    "    n[e,2] = pp-h+1\n",
    "    n[e,3] = pp-1\n",
    "    n[e,4] = pp+1\n",
    "    n[e,5] = pp+h-1\n",
    "    n[e,6] = pp+h\n",
    "    n[e,7] = pp+h+1\n",
    "print(n)"
   ],
   "metadata": {
    "collapsed": false,
    "pycharm": {
     "name": "#%%\n"
    }
   }
  },
  {
   "cell_type": "code",
   "execution_count": 163,
   "outputs": [
    {
     "name": "stdout",
     "output_type": "stream",
     "text": [
      "[[ 0  5 10 15 20]\n",
      " [ 1  6 11 16 21]\n",
      " [ 2  7 12 17 22]\n",
      " [ 3  8 13 18 23]\n",
      " [ 4  9 14 19 24]]\n"
     ]
    }
   ],
   "source": [
    "print(im.T)"
   ],
   "metadata": {
    "collapsed": false,
    "pycharm": {
     "name": "#%%\n"
    }
   }
  },
  {
   "cell_type": "code",
   "execution_count": 162,
   "outputs": [
    {
     "name": "stdout",
     "output_type": "stream",
     "text": [
      "[[ 0  1  2  5  7 10 11 12]\n",
      " [ 1  2  3  6  8 11 12 13]\n",
      " [ 2  3  4  7  9 12 13 14]\n",
      " [ 5  6  7 10 12 15 16 17]\n",
      " [ 6  7  8 11 13 16 17 18]\n",
      " [ 7  8  9 12 14 17 18 19]\n",
      " [10 11 12 15 17 20 21 22]\n",
      " [11 12 13 16 18 21 22 23]\n",
      " [12 13 14 17 19 22 23 24]]\n"
     ]
    }
   ],
   "source": [
    "hh = np.array([[-h-1,-h,-h+1,-1,+1,h-1,h,h+1]])\n",
    "n = p+hh\n",
    "print(n)"
   ],
   "metadata": {
    "collapsed": false,
    "pycharm": {
     "name": "#%%\n"
    }
   }
  },
  {
   "cell_type": "code",
   "execution_count": 82,
   "outputs": [
    {
     "name": "stdout",
     "output_type": "stream",
     "text": [
      "[0. 1. 2. 0. 2. 0. 1. 2.]\n",
      "[1. 2. 3. 1. 3. 1. 2. 3.]\n",
      "[0. 1. 2. 2. 4. 2. 3. 4.]\n",
      "[1. 2. 3. 3. 5. 3. 4. 5.]\n",
      "0 []\n"
     ]
    }
   ],
   "source": [
    "ps = []\n",
    "for i in range(y):\n",
    "    for j in range(x):\n",
    "        n = np.zeros(8)\n",
    "        p = ((i+zh)*(w)) + zw + (j)\n",
    "        n[0] = j\n",
    "        n[1] = j+1\n",
    "        n[2] = j+2\n",
    "        n[3] = (i*y) + j\n",
    "        n[4] = (i*y) + j + 2\n",
    "        n[5] = (i*y) + j\n",
    "        n[6] = (i*y) + j+1\n",
    "        n[7] = (i*y) + j+2\n",
    "        print(n)\n",
    "        # ps.append(p)\n",
    "print(len(ps),ps)"
   ],
   "metadata": {
    "collapsed": false,
    "pycharm": {
     "name": "#%%\n"
    }
   }
  },
  {
   "cell_type": "code",
   "execution_count": 167,
   "outputs": [
    {
     "data": {
      "text/plain": "array([[ 0,  5, 10, 15, 20],\n       [ 1,  6, 11, 16, 21],\n       [ 2,  7, 12, 17, 22],\n       [ 3,  8, 13, 18, 23],\n       [ 4,  9, 14, 19, 24]])"
     },
     "execution_count": 167,
     "metadata": {},
     "output_type": "execute_result"
    }
   ],
   "source": [
    "im.T"
   ],
   "metadata": {
    "collapsed": false,
    "pycharm": {
     "name": "#%%\n"
    }
   }
  },
  {
   "cell_type": "code",
   "execution_count": 166,
   "outputs": [
    {
     "name": "stdout",
     "output_type": "stream",
     "text": [
      "[[ 0  5 10  1 11  2  7 12]\n",
      " [ 5 10 15  6 16  7 12 17]\n",
      " [10 15 20 11 21 12 17 22]\n",
      " [ 1  6 11  2 12  3  8 13]\n",
      " [ 6 11 16  7 17  8 13 18]\n",
      " [11 16 21 12 22 13 18 23]\n",
      " [ 2  7 12  3 13  4  9 14]\n",
      " [ 7 12 17  8 18  9 14 19]\n",
      " [12 17 22 13 23 14 19 24]]\n"
     ]
    }
   ],
   "source": [
    "print(im.T.flatten()[n])"
   ],
   "metadata": {
    "collapsed": false,
    "pycharm": {
     "name": "#%%\n"
    }
   }
  },
  {
   "cell_type": "code",
   "execution_count": null,
   "outputs": [],
   "source": [],
   "metadata": {
    "collapsed": false,
    "pycharm": {
     "name": "#%%\n"
    }
   }
  }
 ],
 "metadata": {
  "kernelspec": {
   "display_name": "Python 3",
   "language": "python",
   "name": "python3"
  },
  "language_info": {
   "codemirror_mode": {
    "name": "ipython",
    "version": 2
   },
   "file_extension": ".py",
   "mimetype": "text/x-python",
   "name": "python",
   "nbconvert_exporter": "python",
   "pygments_lexer": "ipython2",
   "version": "2.7.6"
  }
 },
 "nbformat": 4,
 "nbformat_minor": 0
}